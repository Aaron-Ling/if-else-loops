{
 "cells": [
  {
   "cell_type": "markdown",
   "metadata": {},
   "source": [
    "1. Ask user to enter a string and check that it is made up only alphabets:"
   ]
  },
  {
   "cell_type": "code",
   "execution_count": 1,
   "metadata": {},
   "outputs": [
    {
     "name": "stdout",
     "output_type": "stream",
     "text": [
      "The string is made up only alphabets\n"
     ]
    }
   ],
   "source": [
    "user_input=input(\"Please enter a string\")\n",
    "if(user_input.isalpha()):\n",
    "    print(\"The string is made up only alphabets\")\n",
    "else:\n",
    "    print(\"The string is not made up only alphabets\")"
   ]
  },
  {
   "cell_type": "markdown",
   "metadata": {},
   "source": [
    "2. Now, make sure that the string is made up of both alphabets and numbers:\n",
    "\n",
    "TRY using isalnum() function and then entering only alhpabets in the string and see what happens."
   ]
  },
  {
   "cell_type": "code",
   "execution_count": 2,
   "metadata": {},
   "outputs": [
    {
     "name": "stdout",
     "output_type": "stream",
     "text": [
      "Valid String\n"
     ]
    }
   ],
   "source": [
    "user_input = input(\"Please enter a string\")\n",
    "\n",
    "if user_input.isalnum():\n",
    "    contains_alpha = False\n",
    "    contains_digit = False\n",
    "\n",
    "    for x in user_input:\n",
    "        if x.isalpha():\n",
    "            contains_alpha = True\n",
    "        elif x.isdigit():\n",
    "            contains_digit = True\n",
    "    \n",
    "    if contains_alpha:\n",
    "        print(\"Valid String\")\n",
    "    elif contains_alpha and contains_digit:\n",
    "        print(\"Valid String\")\n",
    "    elif contains_digit:\n",
    "        print(\"Invalid String\")\n",
    "else:\n",
    "    print(\"Invalid String\")"
   ]
  },
  {
   "cell_type": "markdown",
   "metadata": {},
   "source": [
    "3. Now, make sure that the string is made up of both alphabets and at least one number:\n"
   ]
  },
  {
   "cell_type": "code",
   "execution_count": 3,
   "metadata": {},
   "outputs": [
    {
     "name": "stdout",
     "output_type": "stream",
     "text": [
      "Invalid String\n"
     ]
    }
   ],
   "source": [
    "user_input = input(\"Please enter a string\")\n",
    "\n",
    "if user_input.isalnum():\n",
    "    contains_alpha = False\n",
    "    contains_digit = False\n",
    "\n",
    "    for x in user_input:\n",
    "        if x.isalpha():\n",
    "            contains_alpha = True\n",
    "        elif x.isdigit():\n",
    "            contains_digit = True\n",
    "    \n",
    "    if contains_alpha and contains_digit:\n",
    "        print(\"Valid String\")\n",
    "    else:\n",
    "        print(\"Invalid String\")\n",
    "else:\n",
    "    print(\"Invalid String\")"
   ]
  },
  {
   "cell_type": "markdown",
   "metadata": {},
   "source": [
    "4. Now, make sure that the string is made up of both alphabets, at least one number, and at least one special character:"
   ]
  },
  {
   "cell_type": "code",
   "execution_count": 4,
   "metadata": {},
   "outputs": [
    {
     "name": "stdout",
     "output_type": "stream",
     "text": [
      "Valid String\n"
     ]
    }
   ],
   "source": [
    "user_input = input(\"Please enter a string\")\n",
    "\n",
    "contains_alpha = False\n",
    "contains_digit = False\n",
    "contains_special = False\n",
    "for x in user_input:\n",
    "        if x.isalpha():\n",
    "            contains_alpha = True\n",
    "        elif x.isdigit():\n",
    "            contains_digit = True\n",
    "        else:\n",
    "            contains_special =True\n",
    "        \n",
    "    \n",
    "if contains_alpha and contains_digit and contains_special:\n",
    "        print(\"Valid String\")\n",
    "else:\n",
    "        print(\"Invalid String\")"
   ]
  },
  {
   "cell_type": "markdown",
   "metadata": {},
   "source": [
    "5. Now, modify the above code so that if the user enters an invalid string, the program should ask the user to enter another string again, and keep asking until a valid string has been entered."
   ]
  },
  {
   "cell_type": "code",
   "execution_count": 5,
   "metadata": {},
   "outputs": [
    {
     "name": "stdout",
     "output_type": "stream",
     "text": [
      "Valid String\n"
     ]
    }
   ],
   "source": [
    "while True:\n",
    "    user_input = input(\"Please enter a string\")\n",
    "    \n",
    "    contains_alpha = False\n",
    "    contains_digit = False\n",
    "    contains_special = False\n",
    "    for x in user_input:\n",
    "          if x.isalpha():\n",
    "              contains_alpha = True\n",
    "          elif x.isdigit():\n",
    "              contains_digit = True\n",
    "          else:\n",
    "              contains_special =True\n",
    "        \n",
    "    \n",
    "    if contains_alpha and contains_digit and contains_special:\n",
    "        print(\"Valid String\")\n",
    "        break\n",
    "    else:\n",
    "        print(\"Invalid String\") "
   ]
  }
 ],
 "metadata": {
  "kernelspec": {
   "display_name": "Python 3",
   "language": "python",
   "name": "python3"
  },
  "language_info": {
   "codemirror_mode": {
    "name": "ipython",
    "version": 3
   },
   "file_extension": ".py",
   "mimetype": "text/x-python",
   "name": "python",
   "nbconvert_exporter": "python",
   "pygments_lexer": "ipython3",
   "version": "3.8.10"
  }
 },
 "nbformat": 4,
 "nbformat_minor": 2
}
